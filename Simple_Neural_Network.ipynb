{
 "cells": [
  {
   "cell_type": "markdown",
   "metadata": {},
   "source": [
    "## 简单的神经网路"
   ]
  },
  {
   "cell_type": "code",
   "execution_count": 124,
   "metadata": {},
   "outputs": [],
   "source": [
    "%matplotlib inline\n",
    "import matplotlib.pyplot as plt\n",
    "import tensorflow as tf\n",
    "from tqdm import tqdm\n",
    "from tensorflow.python.framework import ops"
   ]
  },
  {
   "cell_type": "markdown",
   "metadata": {},
   "source": [
    "### 从MNIST导入数据\n",
    "+ 因为我们习惯的维度表示是$(n_x, m)$，$n_x$是输入的feature数量,$m$是数据集的个数，所以我们将原本的矩阵转置一下"
   ]
  },
  {
   "cell_type": "code",
   "execution_count": 189,
   "metadata": {},
   "outputs": [
    {
     "name": "stdout",
     "output_type": "stream",
     "text": [
      "Extracting MNIST_data/train-images-idx3-ubyte.gz\n",
      "Extracting MNIST_data/train-labels-idx1-ubyte.gz\n",
      "Extracting MNIST_data/t10k-images-idx3-ubyte.gz\n",
      "Extracting MNIST_data/t10k-labels-idx1-ubyte.gz\n"
     ]
    }
   ],
   "source": [
    "from tensorflow.examples.tutorials.mnist import input_data\n",
    "mnist = input_data.read_data_sets(\"MNIST_data\", one_hot=True)"
   ]
  },
  {
   "cell_type": "code",
   "execution_count": 190,
   "metadata": {},
   "outputs": [],
   "source": [
    "X_train = mnist.train.images.T\n",
    "Y_train = mnist.test.labels.T"
   ]
  },
  {
   "cell_type": "markdown",
   "metadata": {},
   "source": [
    "### 初始化```learning_rate```，```epoch_num```等hyperparameter"
   ]
  },
  {
   "cell_type": "code",
   "execution_count": 191,
   "metadata": {
    "collapsed": true
   },
   "outputs": [],
   "source": [
    "learning_rate = 0.01\n",
    "epoch_num = 5000\n",
    "batch_size = 128\n",
    "layer_dims = [X_train.shape[0], 50, 10]\n",
    "L = len(layer_dims)"
   ]
  },
  {
   "cell_type": "markdown",
   "metadata": {},
   "source": [
    "### 初始化```X，Y```占位符和```W，b```参数\n",
    "+ $W^{[l]}$参数的维度是$(n^{[l]}, n^{[l-1]})$, $b^{[l]}$参数的维度是$(n^{[l]}, 1)$\n",
    "+ 用Xavier Initializer初始化$W$"
   ]
  },
  {
   "cell_type": "code",
   "execution_count": 192,
   "metadata": {},
   "outputs": [],
   "source": [
    "ops.reset_default_graph() \n",
    "X = tf.placeholder(tf.float32, [X_train.shape[0], None])\n",
    "Y = tf.placeholder(tf.float32, [Y_train.shape[0], None])\n",
    "\n",
    "W = [None for i in range(L)]\n",
    "b = [None for i in range(L)]\n",
    "for l in range(1, L):\n",
    "    W[l] = tf.get_variable(\"W\"+str(l), [layer_dims[l], layer_dims[l-1]], \n",
    "                             initializer = tf.contrib.layers.xavier_initializer())\n",
    "    b[l] = tf.get_variable(\"b\"+str(l), [layer_dims[l], 1],\n",
    "                             initializer = tf.zeros_initializer())"
   ]
  },
  {
   "cell_type": "markdown",
   "metadata": {},
   "source": [
    "### 正向传播\n",
    "+ 因为用TensorFlow可以自动解决反向传播的求导和权值更新，我们只需要写好正向传播"
   ]
  },
  {
   "cell_type": "code",
   "execution_count": 193,
   "metadata": {},
   "outputs": [],
   "source": [
    "def forward():\n",
    "    A = X\n",
    "    for i in range(1, L):\n",
    "        Z = tf.matmul(W[i], A) + b[i]\n",
    "        A = tf.nn.relu(Z)\n",
    "    return Z"
   ]
  },
  {
   "cell_type": "markdown",
   "metadata": {},
   "source": [
    "### 计算```cost```, ```optimize```和准确率```accuracy```"
   ]
  },
  {
   "cell_type": "code",
   "execution_count": 194,
   "metadata": {},
   "outputs": [],
   "source": [
    "Y_hat = forward()\n",
    "\n",
    "cost = tf.reduce_mean(tf.nn.softmax_cross_entropy_with_logits(logits=tf.transpose(Y_hat), labels=tf.transpose(Y)))\n",
    "optimizer = tf.train.AdamOptimizer(learning_rate).minimize(cost)\n",
    "\n",
    "predict = tf.equal(tf.argmax(Y_hat), tf.argmax(Y))\n",
    "accuracy = tf.reduce_mean(tf.cast(predict, tf.float32))"
   ]
  },
  {
   "cell_type": "markdown",
   "metadata": {},
   "source": [
    "### 训练和结果"
   ]
  },
  {
   "cell_type": "code",
   "execution_count": 195,
   "metadata": {},
   "outputs": [
    {
     "name": "stderr",
     "output_type": "stream",
     "text": [
      "100%|██████████| 5000/5000 [00:12<00:00, 402.60it/s]\n"
     ]
    },
    {
     "name": "stdout",
     "output_type": "stream",
     "text": [
      "cost:  0.0281202\n",
      "accuracy:  0.9627\n"
     ]
    }
   ],
   "source": [
    "init = tf.global_variables_initializer()\n",
    "sess = tf.Session()\n",
    "sess.run(init)\n",
    "c_list = []\n",
    "for epoch in tqdm(range(epoch_num)):\n",
    "    X_train, Y_train = mnist.train.next_batch(batch_size)\n",
    "    _, c = sess.run([optimizer, cost], feed_dict={X: X_train.T, Y: Y_train.T})\n",
    "    c_list.append(c)\n",
    "print(\"cost: \", c)\n",
    "print(\"accuracy: \", sess.run(accuracy, feed_dict={X: mnist.test.images.T, Y: mnist.test.labels.T}))"
   ]
  },
  {
   "cell_type": "markdown",
   "metadata": {},
   "source": [
    "### 训练过程中```cost```的变化"
   ]
  },
  {
   "cell_type": "code",
   "execution_count": 196,
   "metadata": {},
   "outputs": [
    {
     "data": {
      "text/plain": [
       "[<matplotlib.lines.Line2D at 0x11c977ef0>]"
      ]
     },
     "execution_count": 196,
     "metadata": {},
     "output_type": "execute_result"
    },
    {
     "data": {
      "image/png": "[encoded data removed]",
      "text/plain": [
       "<matplotlib.figure.Figure at 0x11f04efd0>"
      ]
     },
     "metadata": {},
     "output_type": "display_data"
    }
   ],
   "source": [
    "plt.plot(c_list)"
   ]
  },
  {
   "cell_type": "markdown",
   "metadata": {},
   "source": [
    "### 画出```test```中10个预测结果"
   ]
  },
  {
   "cell_type": "code",
   "execution_count": 197,
   "metadata": {
    "scrolled": true
   },
   "outputs": [
    {
     "data": {
      "image/png": "[encoded data removed]",
      "text/plain": [
       "<matplotlib.figure.Figure at 0x11cf31da0>"
      ]
     },
     "metadata": {},
     "output_type": "display_data"
    }
   ],
   "source": [
    "Y_ = sess.run(tf.argmax(Y_hat), feed_dict={X: mnist.test.images.T[:, :10], Y: mnist.test.labels.T[:, :10]})\n",
    "for i in range(10):\n",
    "    plt.subplot(2, 5, i+1)\n",
    "    plt.imshow(mnist.test.images.T[:, i].reshape(28, 28), plt.cm.gray)\n",
    "    plt.title(str(Y_[i]))\n",
    "    plt.axis('off')"
   ]
  }
 ],
 "metadata": {
  "kernelspec": {
   "display_name": "Python 3",
   "language": "python",
   "name": "python3"
  },
  "language_info": {
   "codemirror_mode": {
    "name": "ipython",
    "version": 3
   },
   "file_extension": ".py",
   "mimetype": "text/x-python",
   "name": "python",
   "nbconvert_exporter": "python",
   "pygments_lexer": "ipython3",
   "version": "3.6.1"
  }
 },
 "nbformat": 4,
 "nbformat_minor": 2
}
